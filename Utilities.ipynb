{
 "cells": [
  {
   "cell_type": "markdown",
   "source": [
    "# How to make sub-set with pytorch"
   ],
   "metadata": {
    "collapsed": false
   }
  },
  {
   "cell_type": "code",
   "execution_count": null,
   "outputs": [],
   "source": [
    "from collections import OrderedDict\n",
    "from typing import Dict, List, Optional, Tuple\n",
    "\n",
    "import flwr as fl\n",
    "import numpy as np\n",
    "import torch\n",
    "import torch.nn as nn\n",
    "import torch.nn.functional as F\n",
    "import torchvision.transforms as transforms\n",
    "from torch.utils.data import Subset\n",
    "from torch.utils.data import DataLoader, random_split\n",
    "from torchvision.datasets import CIFAR100\n",
    "transform = transforms.ToTensor()\n",
    "\n",
    "# create training dataset\n",
    "trainset = CIFAR100(root='./data', train=True, download=True, transform=transform)"
   ],
   "metadata": {
    "collapsed": false
   }
  },
  {
   "cell_type": "code",
   "execution_count": null,
   "outputs": [],
   "source": [
    "# We create a tensor that has `True` at an index if the sample belongs to class 1\n",
    "idx0 = torch.tensor(trainset.targets) == 0\n",
    "idx1 = torch.tensor(trainset.targets) == 1\n",
    "idx = idx0 | idx1\n",
    "\n",
    "#We then need to convert this into a list of indices at which we have True.\n",
    "train_indices = idx.nonzero().reshape(-1)\n",
    "\n",
    "# Create of subset\n",
    "train_subset = torch.utils.data.Subset(trainset,  train_indices)\n",
    "\n",
    "#verify\n",
    "print(len(train_subset))"
   ],
   "metadata": {
    "collapsed": false
   }
  }
 ],
 "metadata": {
  "kernelspec": {
   "display_name": "Python 3",
   "language": "python",
   "name": "python3"
  },
  "language_info": {
   "codemirror_mode": {
    "name": "ipython",
    "version": 2
   },
   "file_extension": ".py",
   "mimetype": "text/x-python",
   "name": "python",
   "nbconvert_exporter": "python",
   "pygments_lexer": "ipython2",
   "version": "2.7.6"
  }
 },
 "nbformat": 4,
 "nbformat_minor": 0
}
