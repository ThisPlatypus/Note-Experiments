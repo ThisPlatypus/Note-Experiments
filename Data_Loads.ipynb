{
 "cells": [
  {
   "cell_type": "markdown",
   "source": [
    "### Import library"
   ],
   "metadata": {
    "collapsed": false
   }
  },
  {
   "cell_type": "code",
   "execution_count": 28,
   "outputs": [
    {
     "name": "stdout",
     "output_type": "stream",
     "text": [
      "Files already downloaded and verified\n"
     ]
    }
   ],
   "source": [
    "from collections import OrderedDict\n",
    "from typing import Dict, List, Optional, Tuple\n",
    "\n",
    "import flwr as fl\n",
    "import numpy as np\n",
    "import torch\n",
    "import torch.nn as nn\n",
    "import torch.nn.functional as F\n",
    "import torchvision.transforms as transforms\n",
    "from torch.utils.data import Subset\n",
    "from torch.utils.data import DataLoader, random_split\n",
    "from torchvision.datasets import CIFAR100\n",
    "transform = transforms.ToTensor()\n",
    "\n",
    "# create training dataset\n",
    "trainset = CIFAR100(root='./data', train=True, download=True, transform=transform)"
   ],
   "metadata": {
    "collapsed": false
   }
  },
  {
   "cell_type": "code",
   "execution_count": 47,
   "outputs": [
    {
     "name": "stdout",
     "output_type": "stream",
     "text": [
      "tensor([False, False,  True,  ..., False, False, False])\n",
      "(tensor([[[1.0000, 1.0000, 1.0000,  ..., 0.7647, 0.8314, 0.7137],\n",
      "         [1.0000, 0.9961, 0.9961,  ..., 0.6667, 0.6314, 0.5725],\n",
      "         [1.0000, 0.9961, 1.0000,  ..., 0.7412, 0.6510, 0.4745],\n",
      "         ...,\n",
      "         [0.5804, 0.5569, 0.5490,  ..., 0.1176, 0.2549, 0.2980],\n",
      "         [0.4784, 0.4706, 0.4941,  ..., 0.0863, 0.3804, 0.5529],\n",
      "         [0.3412, 0.3451, 0.3961,  ..., 0.1333, 0.4118, 0.5412]],\n",
      "\n",
      "        [[1.0000, 1.0000, 1.0000,  ..., 0.8039, 0.8784, 0.7608],\n",
      "         [1.0000, 0.9961, 0.9961,  ..., 0.6902, 0.6588, 0.6039],\n",
      "         [1.0000, 0.9961, 1.0000,  ..., 0.7804, 0.6980, 0.5216],\n",
      "         ...,\n",
      "         [0.7255, 0.7137, 0.7020,  ..., 0.0667, 0.2431, 0.3020],\n",
      "         [0.6157, 0.6078, 0.6275,  ..., 0.0627, 0.4392, 0.6314],\n",
      "         [0.4784, 0.4784, 0.5255,  ..., 0.1412, 0.5216, 0.6784]],\n",
      "\n",
      "        [[1.0000, 1.0000, 1.0000,  ..., 0.7569, 0.8000, 0.6549],\n",
      "         [1.0000, 0.9961, 0.9961,  ..., 0.5882, 0.5098, 0.4431],\n",
      "         [1.0000, 0.9961, 1.0000,  ..., 0.6627, 0.5098, 0.3412],\n",
      "         ...,\n",
      "         [0.3098, 0.2235, 0.2353,  ..., 0.0039, 0.0588, 0.0784],\n",
      "         [0.2588, 0.2275, 0.2784,  ..., 0.0118, 0.2196, 0.3412],\n",
      "         [0.1608, 0.1529, 0.2196,  ..., 0.0392, 0.2314, 0.3098]]]), 19)\n"
     ]
    }
   ],
   "source": [
    "\n",
    "print(idx)\n",
    "print(trainset[0])\n"
   ],
   "metadata": {
    "collapsed": false
   }
  },
  {
   "cell_type": "code",
   "execution_count": 55,
   "outputs": [
    {
     "name": "stdout",
     "output_type": "stream",
     "text": [
      "0\n"
     ]
    }
   ],
   "source": [
    "# We create a tensor that has `True` at an index if the sample belongs to class 1\n",
    "idx0 = torch.tensor(trainset.targets) == 0\n",
    "idx1 = torch.tensor(trainset.targets) == 1\n",
    "idx = idx0 | idx1\n",
    "\n",
    "#We then need to convert this into a list of indices at which we have True.\n",
    "train_indices = idx.nonzero().reshape(-1)\n",
    "\n",
    "# Create of subset\n",
    "train_subset = torch.utils.data.Subset(trainset,  train_indices)\n",
    "\n",
    "#verify\n",
    "print(train_subset[505][1])\n",
    "\n",
    "\n",
    "\n"
   ],
   "metadata": {
    "collapsed": false
   }
  },
  {
   "cell_type": "code",
   "execution_count": 50,
   "outputs": [
    {
     "data": {
      "text/plain": "tensor(500)"
     },
     "execution_count": 50,
     "metadata": {},
     "output_type": "execute_result"
    }
   ],
   "source": [
    "sum(torch.tensor(trainset.targets) == 1)"
   ],
   "metadata": {
    "collapsed": false
   }
  },
  {
   "cell_type": "code",
   "execution_count": null,
   "outputs": [],
   "source": [],
   "metadata": {
    "collapsed": false
   }
  }
 ],
 "metadata": {
  "kernelspec": {
   "display_name": "Python 3",
   "language": "python",
   "name": "python3"
  },
  "language_info": {
   "codemirror_mode": {
    "name": "ipython",
    "version": 2
   },
   "file_extension": ".py",
   "mimetype": "text/x-python",
   "name": "python",
   "nbconvert_exporter": "python",
   "pygments_lexer": "ipython2",
   "version": "2.7.6"
  }
 },
 "nbformat": 4,
 "nbformat_minor": 0
}
